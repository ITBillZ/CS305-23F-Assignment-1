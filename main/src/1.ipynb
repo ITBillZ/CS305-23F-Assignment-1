{
 "cells": [
  {
   "cell_type": "code",
   "execution_count": 1,
   "metadata": {},
   "outputs": [],
   "source": [
    "import tomli"
   ]
  },
  {
   "cell_type": "code",
   "execution_count": 2,
   "metadata": {},
   "outputs": [
    {
     "data": {
      "text/plain": [
       "{'agent': {'mail.sustech.edu.cn': {'smtp': 'smtp.exmail.qq.com',\n",
       "   'pop': 'pop.exmail.qq.com'},\n",
       "  'gmail.com': {'smtp': 'smtp.gmail.com', 'pop': 'pop.gmail.com'}},\n",
       " 'server': {'exmail.qq.com': {'smtp': 1025, 'pop': 3110},\n",
       "  'gmail.com': {'smtp': 2025, 'pop': 2110}},\n",
       " 'accounts': {'exmail.qq.com': {'usr1@mail.sustech.edu.cn': 'pass1',\n",
       "   'usr2@mail.sustech.edu.cn': 'pass2'},\n",
       "  'gmail.com': {'usr@gmail.com': 'pass'}}}"
      ]
     },
     "execution_count": 2,
     "metadata": {},
     "output_type": "execute_result"
    }
   ],
   "source": [
    "with open('data/config.toml', 'rb') as f:\n",
    "    _config = tomli.load(f)\n",
    "\n",
    "_config"
   ]
  },
  {
   "cell_type": "code",
   "execution_count": 5,
   "metadata": {},
   "outputs": [],
   "source": [
    "_config.get(\"accounts1\")"
   ]
  },
  {
   "cell_type": "code",
   "execution_count": null,
   "metadata": {},
   "outputs": [],
   "source": []
  }
 ],
 "metadata": {
  "kernelspec": {
   "display_name": "CS305-CN",
   "language": "python",
   "name": "python3"
  },
  "language_info": {
   "codemirror_mode": {
    "name": "ipython",
    "version": 3
   },
   "file_extension": ".py",
   "mimetype": "text/x-python",
   "name": "python",
   "nbconvert_exporter": "python",
   "pygments_lexer": "ipython3",
   "version": "3.8.18"
  }
 },
 "nbformat": 4,
 "nbformat_minor": 2
}
